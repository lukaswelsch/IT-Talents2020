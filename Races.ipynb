{
 "cells": [
  {
   "cell_type": "markdown",
   "metadata": {},
   "source": [
    "# Big Data / Mustererkennung IT-Talents"
   ]
  },
  {
   "cell_type": "markdown",
   "metadata": {},
   "source": [
    "Als erstes interessiert die Frage wie viele Datensätze sind in der csv-Datei denn enthalten:"
   ]
  },
  {
   "cell_type": "code",
   "execution_count": 1,
   "metadata": {},
   "outputs": [
    {
     "data": {
      "text/plain": [
       "(166609, 12)"
      ]
     },
     "execution_count": 1,
     "metadata": {},
     "output_type": "execute_result"
    }
   ],
   "source": [
    "%matplotlib inline\n",
    "import matplotlib.pyplot as plt\n",
    "import pandas as pd\n",
    "import numpy as np\n",
    "from sklearn.datasets import make_classification\n",
    "from sklearn.ensemble import ExtraTreesClassifier\n",
    "import seaborn as sns\n",
    "\n",
    "sns.set()\n",
    "sns.set(rc={'figure.figsize':(15,5)})\n",
    "\n",
    "#map data from csv\n",
    "races = pd.read_csv('races.csv', delimiter=\";\")\n",
    "races.shape "
   ]
  },
  {
   "cell_type": "markdown",
   "metadata": {},
   "source": [
    "166609 Datensätze und 12 Spalten. "
   ]
  },
  {
   "cell_type": "code",
   "execution_count": 2,
   "metadata": {},
   "outputs": [
    {
     "data": {
      "text/html": [
       "<div>\n",
       "<style scoped>\n",
       "    .dataframe tbody tr th:only-of-type {\n",
       "        vertical-align: middle;\n",
       "    }\n",
       "\n",
       "    .dataframe tbody tr th {\n",
       "        vertical-align: top;\n",
       "    }\n",
       "\n",
       "    .dataframe thead th {\n",
       "        text-align: right;\n",
       "    }\n",
       "</style>\n",
       "<table border=\"1\" class=\"dataframe\">\n",
       "  <thead>\n",
       "    <tr style=\"text-align: right;\">\n",
       "      <th></th>\n",
       "      <th>id</th>\n",
       "      <th>race_created</th>\n",
       "      <th>race_driven</th>\n",
       "      <th>track_id</th>\n",
       "      <th>challenger</th>\n",
       "      <th>opponent</th>\n",
       "      <th>money</th>\n",
       "      <th>fuel_consumption</th>\n",
       "      <th>winner</th>\n",
       "      <th>status</th>\n",
       "      <th>forecast</th>\n",
       "      <th>weather</th>\n",
       "    </tr>\n",
       "  </thead>\n",
       "  <tbody>\n",
       "    <tr>\n",
       "      <th>0</th>\n",
       "      <td>1</td>\n",
       "      <td>06.03.2012</td>\n",
       "      <td>06.03.2012 00:00</td>\n",
       "      <td>12</td>\n",
       "      <td>5</td>\n",
       "      <td>2</td>\n",
       "      <td>30</td>\n",
       "      <td>0.63</td>\n",
       "      <td>5</td>\n",
       "      <td>finished</td>\n",
       "      <td>a:4:{s:5:\"sunny\";i:10;s:5:\"rainy\";i:70;s:8:\"th...</td>\n",
       "      <td>rainy</td>\n",
       "    </tr>\n",
       "    <tr>\n",
       "      <th>1</th>\n",
       "      <td>2</td>\n",
       "      <td>06.03.2012</td>\n",
       "      <td>06.03.2012 00:03</td>\n",
       "      <td>12</td>\n",
       "      <td>5</td>\n",
       "      <td>4</td>\n",
       "      <td>30</td>\n",
       "      <td>0.63</td>\n",
       "      <td>4</td>\n",
       "      <td>finished</td>\n",
       "      <td>a:4:{s:5:\"sunny\";i:70;s:5:\"rainy\";i:15;s:8:\"th...</td>\n",
       "      <td>sunny</td>\n",
       "    </tr>\n",
       "    <tr>\n",
       "      <th>2</th>\n",
       "      <td>3</td>\n",
       "      <td>06.03.2012</td>\n",
       "      <td>0000-00-00 00:00:00</td>\n",
       "      <td>3</td>\n",
       "      <td>10</td>\n",
       "      <td>5</td>\n",
       "      <td>30</td>\n",
       "      <td>0.63</td>\n",
       "      <td>0</td>\n",
       "      <td>declined</td>\n",
       "      <td>a:4:{s:5:\"sunny\";i:70;s:5:\"rainy\";i:10;s:8:\"th...</td>\n",
       "      <td>NaN</td>\n",
       "    </tr>\n",
       "    <tr>\n",
       "      <th>3</th>\n",
       "      <td>4</td>\n",
       "      <td>06.03.2012</td>\n",
       "      <td>06.03.2012 00:06</td>\n",
       "      <td>12</td>\n",
       "      <td>5</td>\n",
       "      <td>4</td>\n",
       "      <td>30</td>\n",
       "      <td>0.63</td>\n",
       "      <td>5</td>\n",
       "      <td>finished</td>\n",
       "      <td>a:4:{s:5:\"sunny\";i:25;s:5:\"rainy\";i:75;s:8:\"th...</td>\n",
       "      <td>sunny</td>\n",
       "    </tr>\n",
       "    <tr>\n",
       "      <th>4</th>\n",
       "      <td>5</td>\n",
       "      <td>06.03.2012</td>\n",
       "      <td>0000-00-00 00:00:00</td>\n",
       "      <td>12</td>\n",
       "      <td>4</td>\n",
       "      <td>5</td>\n",
       "      <td>30</td>\n",
       "      <td>0.63</td>\n",
       "      <td>0</td>\n",
       "      <td>declined</td>\n",
       "      <td>a:4:{s:5:\"sunny\";i:45;s:5:\"rainy\";i:20;s:8:\"th...</td>\n",
       "      <td>NaN</td>\n",
       "    </tr>\n",
       "    <tr>\n",
       "      <th>...</th>\n",
       "      <td>...</td>\n",
       "      <td>...</td>\n",
       "      <td>...</td>\n",
       "      <td>...</td>\n",
       "      <td>...</td>\n",
       "      <td>...</td>\n",
       "      <td>...</td>\n",
       "      <td>...</td>\n",
       "      <td>...</td>\n",
       "      <td>...</td>\n",
       "      <td>...</td>\n",
       "      <td>...</td>\n",
       "    </tr>\n",
       "    <tr>\n",
       "      <th>166604</th>\n",
       "      <td>166605</td>\n",
       "      <td>13.06.2017</td>\n",
       "      <td>14.06.2017 01:55</td>\n",
       "      <td>12</td>\n",
       "      <td>14470</td>\n",
       "      <td>14656</td>\n",
       "      <td>30</td>\n",
       "      <td>3.945</td>\n",
       "      <td>14470</td>\n",
       "      <td>finished</td>\n",
       "      <td>a:4:{s:5:\"sunny\";i:5;s:5:\"rainy\";i:85;s:8:\"thu...</td>\n",
       "      <td>rainy</td>\n",
       "    </tr>\n",
       "    <tr>\n",
       "      <th>166605</th>\n",
       "      <td>166606</td>\n",
       "      <td>13.06.2017</td>\n",
       "      <td>26.06.2017 20:54</td>\n",
       "      <td>12</td>\n",
       "      <td>14470</td>\n",
       "      <td>14654</td>\n",
       "      <td>30</td>\n",
       "      <td>3.945</td>\n",
       "      <td>14470</td>\n",
       "      <td>finished</td>\n",
       "      <td>a:4:{s:5:\"sunny\";i:10;s:5:\"rainy\";i:40;s:8:\"th...</td>\n",
       "      <td>thundery</td>\n",
       "    </tr>\n",
       "    <tr>\n",
       "      <th>166606</th>\n",
       "      <td>166607</td>\n",
       "      <td>15.06.2017</td>\n",
       "      <td>0000-00-00 00:00:00</td>\n",
       "      <td>3</td>\n",
       "      <td>14656</td>\n",
       "      <td>3001</td>\n",
       "      <td>30</td>\n",
       "      <td>1.095</td>\n",
       "      <td>0</td>\n",
       "      <td>waiting</td>\n",
       "      <td>a:4:{s:5:\"sunny\";i:10;s:5:\"rainy\";i:5;s:8:\"thu...</td>\n",
       "      <td>NaN</td>\n",
       "    </tr>\n",
       "    <tr>\n",
       "      <th>166607</th>\n",
       "      <td>166608</td>\n",
       "      <td>24.06.2017</td>\n",
       "      <td>24.06.2017 21:22</td>\n",
       "      <td>3</td>\n",
       "      <td>14664</td>\n",
       "      <td>2967</td>\n",
       "      <td>30</td>\n",
       "      <td>0.57</td>\n",
       "      <td>2967</td>\n",
       "      <td>finished</td>\n",
       "      <td>a:4:{s:5:\"sunny\";i:50;s:5:\"rainy\";i:30;s:8:\"th...</td>\n",
       "      <td>sunny</td>\n",
       "    </tr>\n",
       "    <tr>\n",
       "      <th>166608</th>\n",
       "      <td>166609</td>\n",
       "      <td>27.06.2017</td>\n",
       "      <td>0000-00-00 00:00:00</td>\n",
       "      <td>3</td>\n",
       "      <td>14669</td>\n",
       "      <td>0</td>\n",
       "      <td>50</td>\n",
       "      <td>0.6</td>\n",
       "      <td>0</td>\n",
       "      <td>waiting</td>\n",
       "      <td>a:4:{s:5:\"sunny\";i:95;s:5:\"rainy\";i:5;s:8:\"thu...</td>\n",
       "      <td>NaN</td>\n",
       "    </tr>\n",
       "  </tbody>\n",
       "</table>\n",
       "<p>166609 rows × 12 columns</p>\n",
       "</div>"
      ],
      "text/plain": [
       "            id race_created          race_driven  track_id  challenger  \\\n",
       "0            1   06.03.2012     06.03.2012 00:00        12           5   \n",
       "1            2   06.03.2012     06.03.2012 00:03        12           5   \n",
       "2            3   06.03.2012  0000-00-00 00:00:00         3          10   \n",
       "3            4   06.03.2012     06.03.2012 00:06        12           5   \n",
       "4            5   06.03.2012  0000-00-00 00:00:00        12           4   \n",
       "...        ...          ...                  ...       ...         ...   \n",
       "166604  166605   13.06.2017     14.06.2017 01:55        12       14470   \n",
       "166605  166606   13.06.2017     26.06.2017 20:54        12       14470   \n",
       "166606  166607   15.06.2017  0000-00-00 00:00:00         3       14656   \n",
       "166607  166608   24.06.2017     24.06.2017 21:22         3       14664   \n",
       "166608  166609   27.06.2017  0000-00-00 00:00:00         3       14669   \n",
       "\n",
       "        opponent  money fuel_consumption  winner    status  \\\n",
       "0              2     30             0.63       5  finished   \n",
       "1              4     30             0.63       4  finished   \n",
       "2              5     30             0.63       0  declined   \n",
       "3              4     30             0.63       5  finished   \n",
       "4              5     30             0.63       0  declined   \n",
       "...          ...    ...              ...     ...       ...   \n",
       "166604     14656     30            3.945   14470  finished   \n",
       "166605     14654     30            3.945   14470  finished   \n",
       "166606      3001     30            1.095       0   waiting   \n",
       "166607      2967     30             0.57    2967  finished   \n",
       "166608         0     50              0.6       0   waiting   \n",
       "\n",
       "                                                 forecast   weather  \n",
       "0       a:4:{s:5:\"sunny\";i:10;s:5:\"rainy\";i:70;s:8:\"th...     rainy  \n",
       "1       a:4:{s:5:\"sunny\";i:70;s:5:\"rainy\";i:15;s:8:\"th...     sunny  \n",
       "2       a:4:{s:5:\"sunny\";i:70;s:5:\"rainy\";i:10;s:8:\"th...       NaN  \n",
       "3       a:4:{s:5:\"sunny\";i:25;s:5:\"rainy\";i:75;s:8:\"th...     sunny  \n",
       "4       a:4:{s:5:\"sunny\";i:45;s:5:\"rainy\";i:20;s:8:\"th...       NaN  \n",
       "...                                                   ...       ...  \n",
       "166604  a:4:{s:5:\"sunny\";i:5;s:5:\"rainy\";i:85;s:8:\"thu...     rainy  \n",
       "166605  a:4:{s:5:\"sunny\";i:10;s:5:\"rainy\";i:40;s:8:\"th...  thundery  \n",
       "166606  a:4:{s:5:\"sunny\";i:10;s:5:\"rainy\";i:5;s:8:\"thu...       NaN  \n",
       "166607  a:4:{s:5:\"sunny\";i:50;s:5:\"rainy\";i:30;s:8:\"th...     sunny  \n",
       "166608  a:4:{s:5:\"sunny\";i:95;s:5:\"rainy\";i:5;s:8:\"thu...       NaN  \n",
       "\n",
       "[166609 rows x 12 columns]"
      ]
     },
     "execution_count": 2,
     "metadata": {},
     "output_type": "execute_result"
    }
   ],
   "source": [
    "races"
   ]
  },
  {
   "cell_type": "markdown",
   "metadata": {},
   "source": [
    "# Daten aufräumen / vorbereiten"
   ]
  },
  {
   "cell_type": "code",
   "execution_count": 3,
   "metadata": {},
   "outputs": [
    {
     "data": {
      "text/html": [
       "<div>\n",
       "<style scoped>\n",
       "    .dataframe tbody tr th:only-of-type {\n",
       "        vertical-align: middle;\n",
       "    }\n",
       "\n",
       "    .dataframe tbody tr th {\n",
       "        vertical-align: top;\n",
       "    }\n",
       "\n",
       "    .dataframe thead th {\n",
       "        text-align: right;\n",
       "    }\n",
       "</style>\n",
       "<table border=\"1\" class=\"dataframe\">\n",
       "  <thead>\n",
       "    <tr style=\"text-align: right;\">\n",
       "      <th></th>\n",
       "      <th>id</th>\n",
       "      <th>race_created</th>\n",
       "      <th>race_driven</th>\n",
       "      <th>track_id</th>\n",
       "      <th>challenger</th>\n",
       "      <th>opponent</th>\n",
       "      <th>money</th>\n",
       "      <th>fuel_consumption</th>\n",
       "      <th>winner</th>\n",
       "      <th>status</th>\n",
       "      <th>forecast</th>\n",
       "      <th>weather</th>\n",
       "    </tr>\n",
       "  </thead>\n",
       "  <tbody>\n",
       "    <tr>\n",
       "      <th>0</th>\n",
       "      <td>1</td>\n",
       "      <td>06.03.2012</td>\n",
       "      <td>06.03.2012 00:00</td>\n",
       "      <td>12</td>\n",
       "      <td>5</td>\n",
       "      <td>2</td>\n",
       "      <td>30</td>\n",
       "      <td>0.63</td>\n",
       "      <td>5</td>\n",
       "      <td>finished</td>\n",
       "      <td>a:4:{s:5:\"sunny\";i:10;s:5:\"rainy\";i:70;s:8:\"th...</td>\n",
       "      <td>rainy</td>\n",
       "    </tr>\n",
       "    <tr>\n",
       "      <th>1</th>\n",
       "      <td>2</td>\n",
       "      <td>06.03.2012</td>\n",
       "      <td>06.03.2012 00:03</td>\n",
       "      <td>12</td>\n",
       "      <td>5</td>\n",
       "      <td>4</td>\n",
       "      <td>30</td>\n",
       "      <td>0.63</td>\n",
       "      <td>4</td>\n",
       "      <td>finished</td>\n",
       "      <td>a:4:{s:5:\"sunny\";i:70;s:5:\"rainy\";i:15;s:8:\"th...</td>\n",
       "      <td>sunny</td>\n",
       "    </tr>\n",
       "    <tr>\n",
       "      <th>3</th>\n",
       "      <td>4</td>\n",
       "      <td>06.03.2012</td>\n",
       "      <td>06.03.2012 00:06</td>\n",
       "      <td>12</td>\n",
       "      <td>5</td>\n",
       "      <td>4</td>\n",
       "      <td>30</td>\n",
       "      <td>0.63</td>\n",
       "      <td>5</td>\n",
       "      <td>finished</td>\n",
       "      <td>a:4:{s:5:\"sunny\";i:25;s:5:\"rainy\";i:75;s:8:\"th...</td>\n",
       "      <td>sunny</td>\n",
       "    </tr>\n",
       "    <tr>\n",
       "      <th>5</th>\n",
       "      <td>6</td>\n",
       "      <td>06.03.2012</td>\n",
       "      <td>06.03.2012 00:17</td>\n",
       "      <td>12</td>\n",
       "      <td>5</td>\n",
       "      <td>10</td>\n",
       "      <td>100</td>\n",
       "      <td>0.63</td>\n",
       "      <td>5</td>\n",
       "      <td>finished</td>\n",
       "      <td>a:4:{s:5:\"sunny\";i:30;s:5:\"rainy\";i:20;s:8:\"th...</td>\n",
       "      <td>snowy</td>\n",
       "    </tr>\n",
       "    <tr>\n",
       "      <th>8</th>\n",
       "      <td>9</td>\n",
       "      <td>06.03.2012</td>\n",
       "      <td>06.03.2012 00:08</td>\n",
       "      <td>3</td>\n",
       "      <td>10</td>\n",
       "      <td>4</td>\n",
       "      <td>30</td>\n",
       "      <td>0.63</td>\n",
       "      <td>4</td>\n",
       "      <td>finished</td>\n",
       "      <td>a:4:{s:5:\"sunny\";i:45;s:5:\"rainy\";i:40;s:8:\"th...</td>\n",
       "      <td>sunny</td>\n",
       "    </tr>\n",
       "  </tbody>\n",
       "</table>\n",
       "</div>"
      ],
      "text/plain": [
       "   id race_created       race_driven  track_id  challenger  opponent  money  \\\n",
       "0   1   06.03.2012  06.03.2012 00:00        12           5         2     30   \n",
       "1   2   06.03.2012  06.03.2012 00:03        12           5         4     30   \n",
       "3   4   06.03.2012  06.03.2012 00:06        12           5         4     30   \n",
       "5   6   06.03.2012  06.03.2012 00:17        12           5        10    100   \n",
       "8   9   06.03.2012  06.03.2012 00:08         3          10         4     30   \n",
       "\n",
       "  fuel_consumption  winner    status  \\\n",
       "0             0.63       5  finished   \n",
       "1             0.63       4  finished   \n",
       "3             0.63       5  finished   \n",
       "5             0.63       5  finished   \n",
       "8             0.63       4  finished   \n",
       "\n",
       "                                            forecast weather  \n",
       "0  a:4:{s:5:\"sunny\";i:10;s:5:\"rainy\";i:70;s:8:\"th...   rainy  \n",
       "1  a:4:{s:5:\"sunny\";i:70;s:5:\"rainy\";i:15;s:8:\"th...   sunny  \n",
       "3  a:4:{s:5:\"sunny\";i:25;s:5:\"rainy\";i:75;s:8:\"th...   sunny  \n",
       "5  a:4:{s:5:\"sunny\";i:30;s:5:\"rainy\";i:20;s:8:\"th...   snowy  \n",
       "8  a:4:{s:5:\"sunny\";i:45;s:5:\"rainy\";i:40;s:8:\"th...   sunny  "
      ]
     },
     "execution_count": 3,
     "metadata": {},
     "output_type": "execute_result"
    }
   ],
   "source": [
    "def is_float(x):\n",
    "    try:\n",
    "        float(x)\n",
    "    except ValueError:\n",
    "        return False\n",
    "    return True\n",
    "\n",
    "#convert fuel_consumption to float value\n",
    "races = races[races['fuel_consumption'].apply(lambda x: is_float(x))]\n",
    "\n",
    "finished_races = races[(races.status=='finished')]\n",
    "\n",
    "finished_races.head()"
   ]
  },
  {
   "cell_type": "code",
   "execution_count": 4,
   "metadata": {},
   "outputs": [
    {
     "data": {
      "text/html": [
       "<div>\n",
       "<style scoped>\n",
       "    .dataframe tbody tr th:only-of-type {\n",
       "        vertical-align: middle;\n",
       "    }\n",
       "\n",
       "    .dataframe tbody tr th {\n",
       "        vertical-align: top;\n",
       "    }\n",
       "\n",
       "    .dataframe thead th {\n",
       "        text-align: right;\n",
       "    }\n",
       "</style>\n",
       "<table border=\"1\" class=\"dataframe\">\n",
       "  <thead>\n",
       "    <tr style=\"text-align: right;\">\n",
       "      <th></th>\n",
       "      <th>id</th>\n",
       "      <th>race_created</th>\n",
       "      <th>race_driven</th>\n",
       "      <th>track_id</th>\n",
       "      <th>challenger</th>\n",
       "      <th>opponent</th>\n",
       "      <th>money</th>\n",
       "      <th>fuel_consumption</th>\n",
       "      <th>winner</th>\n",
       "      <th>status</th>\n",
       "      <th>forecast</th>\n",
       "      <th>weather</th>\n",
       "    </tr>\n",
       "  </thead>\n",
       "  <tbody>\n",
       "    <tr>\n",
       "      <th>0</th>\n",
       "      <td>1</td>\n",
       "      <td>06.03.2012</td>\n",
       "      <td>06.03.2012 00:00</td>\n",
       "      <td>12</td>\n",
       "      <td>5</td>\n",
       "      <td>2</td>\n",
       "      <td>30</td>\n",
       "      <td>0.63</td>\n",
       "      <td>5</td>\n",
       "      <td>finished</td>\n",
       "      <td>a:4:{s:5:\"sunny\";i:10;s:5:\"rainy\";i:70;s:8:\"th...</td>\n",
       "      <td>rainy</td>\n",
       "    </tr>\n",
       "    <tr>\n",
       "      <th>1</th>\n",
       "      <td>2</td>\n",
       "      <td>06.03.2012</td>\n",
       "      <td>06.03.2012 00:03</td>\n",
       "      <td>12</td>\n",
       "      <td>5</td>\n",
       "      <td>4</td>\n",
       "      <td>30</td>\n",
       "      <td>0.63</td>\n",
       "      <td>4</td>\n",
       "      <td>finished</td>\n",
       "      <td>a:4:{s:5:\"sunny\";i:70;s:5:\"rainy\";i:15;s:8:\"th...</td>\n",
       "      <td>sunny</td>\n",
       "    </tr>\n",
       "    <tr>\n",
       "      <th>3</th>\n",
       "      <td>4</td>\n",
       "      <td>06.03.2012</td>\n",
       "      <td>06.03.2012 00:06</td>\n",
       "      <td>12</td>\n",
       "      <td>5</td>\n",
       "      <td>4</td>\n",
       "      <td>30</td>\n",
       "      <td>0.63</td>\n",
       "      <td>5</td>\n",
       "      <td>finished</td>\n",
       "      <td>a:4:{s:5:\"sunny\";i:25;s:5:\"rainy\";i:75;s:8:\"th...</td>\n",
       "      <td>sunny</td>\n",
       "    </tr>\n",
       "    <tr>\n",
       "      <th>5</th>\n",
       "      <td>6</td>\n",
       "      <td>06.03.2012</td>\n",
       "      <td>06.03.2012 00:17</td>\n",
       "      <td>12</td>\n",
       "      <td>5</td>\n",
       "      <td>10</td>\n",
       "      <td>100</td>\n",
       "      <td>0.63</td>\n",
       "      <td>5</td>\n",
       "      <td>finished</td>\n",
       "      <td>a:4:{s:5:\"sunny\";i:30;s:5:\"rainy\";i:20;s:8:\"th...</td>\n",
       "      <td>snowy</td>\n",
       "    </tr>\n",
       "    <tr>\n",
       "      <th>8</th>\n",
       "      <td>9</td>\n",
       "      <td>06.03.2012</td>\n",
       "      <td>06.03.2012 00:08</td>\n",
       "      <td>3</td>\n",
       "      <td>10</td>\n",
       "      <td>4</td>\n",
       "      <td>30</td>\n",
       "      <td>0.63</td>\n",
       "      <td>4</td>\n",
       "      <td>finished</td>\n",
       "      <td>a:4:{s:5:\"sunny\";i:45;s:5:\"rainy\";i:40;s:8:\"th...</td>\n",
       "      <td>sunny</td>\n",
       "    </tr>\n",
       "  </tbody>\n",
       "</table>\n",
       "</div>"
      ],
      "text/plain": [
       "   id race_created       race_driven  track_id  challenger  opponent  money  \\\n",
       "0   1   06.03.2012  06.03.2012 00:00        12           5         2     30   \n",
       "1   2   06.03.2012  06.03.2012 00:03        12           5         4     30   \n",
       "3   4   06.03.2012  06.03.2012 00:06        12           5         4     30   \n",
       "5   6   06.03.2012  06.03.2012 00:17        12           5        10    100   \n",
       "8   9   06.03.2012  06.03.2012 00:08         3          10         4     30   \n",
       "\n",
       "  fuel_consumption  winner    status  \\\n",
       "0             0.63       5  finished   \n",
       "1             0.63       4  finished   \n",
       "3             0.63       5  finished   \n",
       "5             0.63       5  finished   \n",
       "8             0.63       4  finished   \n",
       "\n",
       "                                            forecast weather  \n",
       "0  a:4:{s:5:\"sunny\";i:10;s:5:\"rainy\";i:70;s:8:\"th...   rainy  \n",
       "1  a:4:{s:5:\"sunny\";i:70;s:5:\"rainy\";i:15;s:8:\"th...   sunny  \n",
       "3  a:4:{s:5:\"sunny\";i:25;s:5:\"rainy\";i:75;s:8:\"th...   sunny  \n",
       "5  a:4:{s:5:\"sunny\";i:30;s:5:\"rainy\";i:20;s:8:\"th...   snowy  \n",
       "8  a:4:{s:5:\"sunny\";i:45;s:5:\"rainy\";i:40;s:8:\"th...   sunny  "
      ]
     },
     "execution_count": 4,
     "metadata": {},
     "output_type": "execute_result"
    }
   ],
   "source": [
    "#Clean Data with NaN\n",
    "races_with_weather = finished_races[(finished_races.weather!='NaN')]\n",
    "races_with_weather.head()"
   ]
  },
  {
   "cell_type": "markdown",
   "metadata": {},
   "source": [
    "# Fuel Consumption "
   ]
  },
  {
   "cell_type": "markdown",
   "metadata": {},
   "source": [
    "Als erstes ein Boxplot, um ein Gefühl für den Verbrauch zu bekommen. Dieser weicht teilweise extrem vom Mittelwert ab, wie der nachfolgende Plot zeigt:"
   ]
  },
  {
   "cell_type": "code",
   "execution_count": 5,
   "metadata": {},
   "outputs": [
    {
     "name": "stderr",
     "output_type": "stream",
     "text": [
      "<ipython-input-5-994153ebcdcc>:1: SettingWithCopyWarning: \n",
      "A value is trying to be set on a copy of a slice from a DataFrame.\n",
      "Try using .loc[row_indexer,col_indexer] = value instead\n",
      "\n",
      "See the caveats in the documentation: http://pandas.pydata.org/pandas-docs/stable/user_guide/indexing.html#returning-a-view-versus-a-copy\n",
      "  finished_races[\"fuel_consumption\"]= pd.to_numeric(finished_races[\"fuel_consumption\"])\n"
     ]
    },
    {
     "data": {
      "text/plain": [
       "[Text(0, 0, '3'),\n",
       " Text(0, 0, '4'),\n",
       " Text(0, 0, '5'),\n",
       " Text(0, 0, '6'),\n",
       " Text(0, 0, '7'),\n",
       " Text(0, 0, '8'),\n",
       " Text(0, 0, '9'),\n",
       " Text(0, 0, '10'),\n",
       " Text(0, 0, '11'),\n",
       " Text(0, 0, '12'),\n",
       " Text(0, 0, '13'),\n",
       " Text(0, 0, '14')]"
      ]
     },
     "execution_count": 5,
     "metadata": {},
     "output_type": "execute_result"
    },
    {
     "data": {
      "image/png": "[encoded data removed]",
      "text/plain": [
       "<Figure size 1080x360 with 1 Axes>"
      ]
     },
     "metadata": {},
     "output_type": "display_data"
    }
   ],
   "source": [
    "finished_races[\"fuel_consumption\"]= pd.to_numeric(finished_races[\"fuel_consumption\"])\n",
    "\n",
    "\n",
    "data = pd.DataFrame({'track_id': finished_races.track_id, 'fuel_consumption': finished_races.fuel_consumption})\n",
    "\n",
    "\n",
    "sns.set(rc={'figure.figsize':(15,5)})\n",
    "ax=sns.boxplot(x='track_id', y='fuel_consumption', data=data)\n",
    "ax.set_xticklabels(ax.get_xticklabels(),rotation=45)\n"
   ]
  },
  {
   "cell_type": "markdown",
   "metadata": {},
   "source": [
    "Zunächst aggregiere ich die Daten nach Gewinner und Track id und nehme den Durchschnittlichen Wert, den jeder Fahrer verbraucht. Anschließend gruppiere ich nach der track_id. So habe ich eine Gute Aussage darüber, wie viel Sprit auf welcher Strecker verbraucht wird. Diese Werte geben dann entweder die Länge der Strecke oder wie bergig diese sind an."
   ]
  },
  {
   "cell_type": "code",
   "execution_count": 6,
   "metadata": {},
   "outputs": [
    {
     "data": {
      "text/plain": [
       "track_id\n",
       "3      5.157131\n",
       "4      0.883689\n",
       "5      3.213726\n",
       "6     10.940726\n",
       "7      1.904013\n",
       "8      9.787180\n",
       "9      2.745647\n",
       "10     3.011067\n",
       "11     9.946572\n",
       "12     7.577980\n",
       "13     1.742972\n",
       "14     9.981014\n",
       "Name: fuel_consumption, dtype: float64"
      ]
     },
     "execution_count": 6,
     "metadata": {},
     "output_type": "execute_result"
    }
   ],
   "source": [
    "\n",
    "\n",
    "fuel_per_challenger = finished_races.groupby(['winner','track_id'])['fuel_consumption'].mean().reset_index().sort_values(['track_id','fuel_consumption'], ascending=[False,False])\n",
    "\n",
    "t = fuel_per_challenger.groupby(['track_id']).mean()\n",
    "t['fuel_consumption']"
   ]
  },
  {
   "cell_type": "markdown",
   "metadata": {},
   "source": [
    "# Wann wurden die meisten Rennen gefahren?"
   ]
  },
  {
   "cell_type": "markdown",
   "metadata": {},
   "source": [
    "zunächst ist zusehen, dass die Rennanzahl stark sinkt von Jahr zu Jahr"
   ]
  },
  {
   "cell_type": "code",
   "execution_count": 7,
   "metadata": {},
   "outputs": [
    {
     "data": {
      "image/png": "[encoded data removed]",
      "text/plain": [
       "<Figure size 1080x360 with 1 Axes>"
      ]
     },
     "metadata": {},
     "output_type": "display_data"
    }
   ],
   "source": [
    "races_per_year = pd.DataFrame({'time': finished_races.race_created})\n",
    "\n",
    "races_per_year['time'] =  pd.to_datetime(races_per_year['time']).dt.strftime(\"%Y\").astype(int)\n",
    "\n",
    "data=races_per_year.groupby(['time']).size().plot(kind='bar')"
   ]
  },
  {
   "cell_type": "markdown",
   "metadata": {},
   "source": [
    "Die nächste spannende Frage beschäftigt sich damit, an welchem Wochentag die meisten rennen gefahren wurden:"
   ]
  },
  {
   "cell_type": "code",
   "execution_count": 8,
   "metadata": {},
   "outputs": [
    {
     "data": {
      "text/plain": [
       "<matplotlib.axes._subplots.AxesSubplot at 0x7f45e8344d60>"
      ]
     },
     "execution_count": 8,
     "metadata": {},
     "output_type": "execute_result"
    },
    {
     "data": {
      "image/png": "[encoded data removed]",
      "text/plain": [
       "<Figure size 1080x360 with 1 Axes>"
      ]
     },
     "metadata": {},
     "output_type": "display_data"
    }
   ],
   "source": [
    "races_per_day = pd.DataFrame({'time': finished_races.race_created})\n",
    "\n",
    "data = pd.DataFrame()\n",
    "#Map to days\n",
    "days = {0: 'Sonntag', 1: 'Montag', 2: \"Dienstag\", 3: \"Mittwoch\", 4: \"Donnerstag\", 5: \"Freitag\", 6:\"Samstag\"}\n",
    "races_per_day['time'] =  pd.to_datetime(races_per_day['time']).dt.weekday.astype(int)\n",
    "\n",
    "#Group by day\n",
    "data['days'] = races_per_day.groupby(['time']).size()\n",
    "\n",
    "#Map to the names \n",
    "data['time'] = data.index.map(days)\n",
    "\n",
    "#Plot\n",
    "sns.lineplot(data=data, color=\"coral\", x='time', y='days', sort=False)"
   ]
  },
  {
   "cell_type": "markdown",
   "metadata": {},
   "source": [
    "Wie in der Abbildung zu erkennen ist, sind am Wochenende mehr Rennen geafhren worden, als unter der Woche. \n",
    "Hier könnte die Vermutung angestellt werden, dass es sich um ein Computer-Spiel handelt."
   ]
  },
  {
   "cell_type": "markdown",
   "metadata": {},
   "source": [
    "# Wer ist der beste Fahrer?"
   ]
  },
  {
   "cell_type": "markdown",
   "metadata": {},
   "source": [
    "zunächst: wer hat die meisten Rennen gewonnen?"
   ]
  },
  {
   "cell_type": "code",
   "execution_count": 9,
   "metadata": {},
   "outputs": [
    {
     "data": {
      "text/plain": [
       "<matplotlib.axes._subplots.AxesSubplot at 0x7f45e8316760>"
      ]
     },
     "execution_count": 9,
     "metadata": {},
     "output_type": "execute_result"
    },
    {
     "data": {
      "image/png": "[encoded data removed]",
      "text/plain": [
       "<Figure size 1080x360 with 1 Axes>"
      ]
     },
     "metadata": {},
     "output_type": "display_data"
    }
   ],
   "source": [
    "#use function value_counts and print the 30 first results\n",
    "\n",
    "winner = finished_races['winner'].value_counts().sort_values(ascending = False);\n",
    "winner[:30].plot(kind='bar')"
   ]
  },
  {
   "cell_type": "markdown",
   "metadata": {},
   "source": [
    "Fahrer 48 geht als klarer Gewinner hervor. Allerdings wurde hier nicht betrachtet, dass dieser Fahrer auch die meisten Rennen gefahren haben könnte."
   ]
  },
  {
   "cell_type": "markdown",
   "metadata": {},
   "source": [
    "## Wer hat prozentual die meisten Rennen gewonnen?"
   ]
  },
  {
   "cell_type": "markdown",
   "metadata": {},
   "source": [
    "Fahrer 48 hat zwar die meisten Rennen gewonnen, er hat aber auch die meisten gefahren. Hier wird zunächst die Anzahl der Rennen, die jeder Fahrer gefahren ist berechnet und anschließend eine Gewinn-Ratio errechnet. Es werden nur die Fahrer gezählt, die mindestens 300 Rennen gefahren sind. "
   ]
  },
  {
   "cell_type": "code",
   "execution_count": 10,
   "metadata": {},
   "outputs": [
    {
     "data": {
      "text/plain": [
       "(0.5, 0.8)"
      ]
     },
     "execution_count": 10,
     "metadata": {},
     "output_type": "execute_result"
    },
    {
     "data": {
      "image/png": "[encoded data removed]",
      "text/plain": [
       "<Figure size 1080x360 with 1 Axes>"
      ]
     },
     "metadata": {},
     "output_type": "display_data"
    }
   ],
   "source": [
    "#create DataFrames for all categories: Challenger, Opponent and Winner\n",
    "#Challenger and Opponent combined is the total races made\n",
    "challenger = pd.DataFrame(finished_races.challenger.value_counts().reset_index())\n",
    "challenger.columns = ['driver', 'challenger_count']\n",
    "opponent = pd.DataFrame(finished_races.opponent.value_counts().reset_index())\n",
    "opponent.columns = ['driver', 'opponent_count']\n",
    "winner = pd.DataFrame(finished_races.winner.value_counts().reset_index())\n",
    "winner.columns = ['driver', 'winner_count']\n",
    "\n",
    "\n",
    "#merge all together\n",
    "merged = pd.merge(pd.merge(opponent, challenger, on='driver'), winner, on ='driver')\n",
    "\n",
    "#calculate combined(total number of races) and win_ratio per driver\n",
    "merged['combined'] = merged['challenger_count'] + merged['opponent_count']\n",
    "merged['win_ratio'] = merged['winner_count'] / merged['combined']\n",
    "\n",
    "#create new DataFrame and sort by win Ratio\n",
    "to_calculate=pd.DataFrame({\"driver\":merged.driver, \"combined\":merged.combined, \"win_ratio\":merged.win_ratio})\n",
    "\n",
    "to_calculate = to_calculate[to_calculate.combined>300].sort_values(by=['win_ratio'], ascending=False)\n",
    "\n",
    "to_plot= to_calculate[:30].set_index('driver')\n",
    "to_plot['win_ratio'].plot(kind='bar')\n",
    "plt.ylim([0.5,0.8])"
   ]
  },
  {
   "cell_type": "markdown",
   "metadata": {},
   "source": [
    "Diese Ergebnisse lassen sich gut visualisieren: Im Schnitt liegt die Gewinnrate bei knapp über 50%. Dies klingt sehr realistisch für die große Anzahl an Daten. Nur wenige weichen von dem Schnitt ab."
   ]
  },
  {
   "cell_type": "code",
   "execution_count": 11,
   "metadata": {},
   "outputs": [
    {
     "data": {
      "text/plain": [
       "<matplotlib.axes._subplots.AxesSubplot at 0x7f45e315adf0>"
      ]
     },
     "execution_count": 11,
     "metadata": {},
     "output_type": "execute_result"
    },
    {
     "data": {
      "image/png": "[encoded data removed]",
      "text/plain": [
       "<Figure size 1080x360 with 1 Axes>"
      ]
     },
     "metadata": {},
     "output_type": "display_data"
    }
   ],
   "source": [
    "to_plot=pd.DataFrame({\"combined\":merged.combined, \"winner_count\":merged.winner_count})\n",
    "\n",
    "sns.distplot(to_calculate[to_calculate.combined>300]['win_ratio'])"
   ]
  },
  {
   "cell_type": "markdown",
   "metadata": {},
   "source": [
    "## Wer hat am meisten Geld verdient?"
   ]
  },
  {
   "cell_type": "code",
   "execution_count": 12,
   "metadata": {},
   "outputs": [
    {
     "data": {
      "text/plain": [
       "Text(0.5, 0, 'Gewinner ID')"
      ]
     },
     "execution_count": 12,
     "metadata": {},
     "output_type": "execute_result"
    },
    {
     "data": {
      "image/png": "[encoded data removed]",
      "text/plain": [
       "<Figure size 1080x360 with 1 Axes>"
      ]
     },
     "metadata": {},
     "output_type": "display_data"
    }
   ],
   "source": [
    "money_winner = finished_races.groupby(['winner']).sum().sort_values(['money'],ascending=False)\n",
    "forplot = money_winner['money']/1000000\n",
    "forplot[:30].plot(kind='bar')\n",
    "plt.ylabel(\"In Millionen\")\n",
    "plt.xlabel(\"Gewinner ID\")"
   ]
  },
  {
   "cell_type": "markdown",
   "metadata": {},
   "source": [
    "Falls die Angaben in € oder $ gemacht wurden sind hier wohl einige Millionäre geworden. Den größten Gewinn scheint 2866 verzeichnen zu können. "
   ]
  },
  {
   "cell_type": "markdown",
   "metadata": {},
   "source": [
    "# Random Forest, für Aussagen zu künftigen Events"
   ]
  },
  {
   "cell_type": "markdown",
   "metadata": {},
   "source": [
    "### Wer wird in Zukunft gut sein?"
   ]
  },
  {
   "cell_type": "code",
   "execution_count": 13,
   "metadata": {},
   "outputs": [],
   "source": [
    "#prepare dataset for randomforest\n",
    "test = finished_races.drop(['forecast', 'status', 'id'], axis=1)\n",
    "test = test[(pd.to_datetime(test['race_created']).dt.strftime(\"%Y\").astype(int) < 2015)]\n",
    "test['race_created'] =  pd.to_datetime(test['race_created']).dt.strftime(\"%Y%d%m\").astype(int)\n",
    "test['race_driven'] = pd.to_datetime(test['race_driven']).dt.strftime(\"%H%M\").astype(int)\n",
    "\n",
    "#map weather for random forest\n",
    "weather = {'sunny': 0, 'rainy': 1, 'snowy': 2, \"thundery\": 3}\n",
    "test['weather'] = test['weather'].map(weather)"
   ]
  },
  {
   "cell_type": "code",
   "execution_count": 14,
   "metadata": {},
   "outputs": [
    {
     "data": {
      "text/html": [
       "<div>\n",
       "<style scoped>\n",
       "    .dataframe tbody tr th:only-of-type {\n",
       "        vertical-align: middle;\n",
       "    }\n",
       "\n",
       "    .dataframe tbody tr th {\n",
       "        vertical-align: top;\n",
       "    }\n",
       "\n",
       "    .dataframe thead th {\n",
       "        text-align: right;\n",
       "    }\n",
       "</style>\n",
       "<table border=\"1\" class=\"dataframe\">\n",
       "  <thead>\n",
       "    <tr style=\"text-align: right;\">\n",
       "      <th></th>\n",
       "      <th>race_created</th>\n",
       "      <th>race_driven</th>\n",
       "      <th>track_id</th>\n",
       "      <th>challenger</th>\n",
       "      <th>opponent</th>\n",
       "      <th>money</th>\n",
       "      <th>fuel_consumption</th>\n",
       "      <th>winner</th>\n",
       "      <th>weather</th>\n",
       "    </tr>\n",
       "  </thead>\n",
       "  <tbody>\n",
       "    <tr>\n",
       "      <th>162373</th>\n",
       "      <td>20142912</td>\n",
       "      <td>939</td>\n",
       "      <td>12</td>\n",
       "      <td>12953</td>\n",
       "      <td>12975</td>\n",
       "      <td>50</td>\n",
       "      <td>80.025</td>\n",
       "      <td>0</td>\n",
       "      <td>1</td>\n",
       "    </tr>\n",
       "    <tr>\n",
       "      <th>162376</th>\n",
       "      <td>20142912</td>\n",
       "      <td>1229</td>\n",
       "      <td>12</td>\n",
       "      <td>12953</td>\n",
       "      <td>10014</td>\n",
       "      <td>75</td>\n",
       "      <td>80.325</td>\n",
       "      <td>1</td>\n",
       "      <td>1</td>\n",
       "    </tr>\n",
       "    <tr>\n",
       "      <th>162377</th>\n",
       "      <td>20142912</td>\n",
       "      <td>1228</td>\n",
       "      <td>12</td>\n",
       "      <td>12953</td>\n",
       "      <td>10014</td>\n",
       "      <td>75</td>\n",
       "      <td>80.325</td>\n",
       "      <td>0</td>\n",
       "      <td>2</td>\n",
       "    </tr>\n",
       "    <tr>\n",
       "      <th>162386</th>\n",
       "      <td>20143012</td>\n",
       "      <td>2339</td>\n",
       "      <td>12</td>\n",
       "      <td>12953</td>\n",
       "      <td>12975</td>\n",
       "      <td>90</td>\n",
       "      <td>79.875</td>\n",
       "      <td>0</td>\n",
       "      <td>1</td>\n",
       "    </tr>\n",
       "    <tr>\n",
       "      <th>162392</th>\n",
       "      <td>20143012</td>\n",
       "      <td>2256</td>\n",
       "      <td>3</td>\n",
       "      <td>840</td>\n",
       "      <td>13090</td>\n",
       "      <td>30</td>\n",
       "      <td>2.265</td>\n",
       "      <td>0</td>\n",
       "      <td>1</td>\n",
       "    </tr>\n",
       "  </tbody>\n",
       "</table>\n",
       "</div>"
      ],
      "text/plain": [
       "        race_created  race_driven  track_id  challenger  opponent  money  \\\n",
       "162373      20142912          939        12       12953     12975     50   \n",
       "162376      20142912         1229        12       12953     10014     75   \n",
       "162377      20142912         1228        12       12953     10014     75   \n",
       "162386      20143012         2339        12       12953     12975     90   \n",
       "162392      20143012         2256         3         840     13090     30   \n",
       "\n",
       "        fuel_consumption  winner  weather  \n",
       "162373            80.025       0        1  \n",
       "162376            80.325       1        1  \n",
       "162377            80.325       0        2  \n",
       "162386            79.875       0        1  \n",
       "162392             2.265       0        1  "
      ]
     },
     "execution_count": 14,
     "metadata": {},
     "output_type": "execute_result"
    }
   ],
   "source": [
    "#map winner to boolean for the random forest\n",
    "test['winner'] = test['winner'].map(test['challenger'] == test['winner']).fillna(False).astype(int)\n",
    "test.tail()"
   ]
  },
  {
   "cell_type": "markdown",
   "metadata": {},
   "source": [
    "## Welchen Einfluss haben die einzelnen Merkmale auf den Datensatz?"
   ]
  },
  {
   "cell_type": "code",
   "execution_count": 15,
   "metadata": {},
   "outputs": [
    {
     "data": {
      "text/plain": [
       "['race_created',\n",
       " 'race_driven',\n",
       " 'track_id',\n",
       " 'challenger',\n",
       " 'opponent',\n",
       " 'money',\n",
       " 'fuel_consumption',\n",
       " 'weather']"
      ]
     },
     "execution_count": 15,
     "metadata": {},
     "output_type": "execute_result"
    }
   ],
   "source": [
    "#get a features list\n",
    "features = list(test.columns[:7])\n",
    "features.append('weather')\n",
    "features"
   ]
  },
  {
   "cell_type": "markdown",
   "metadata": {},
   "source": [
    "Als nächstes werden mit Hilfe eines ExtraTreesClassifiers die Wichtigkeit der Merkmale bestimmt:"
   ]
  },
  {
   "cell_type": "code",
   "execution_count": 16,
   "metadata": {},
   "outputs": [
    {
     "name": "stdout",
     "output_type": "stream",
     "text": [
      "Feature ranking:\n"
     ]
    },
    {
     "data": {
      "text/html": [
       "<div>\n",
       "<style scoped>\n",
       "    .dataframe tbody tr th:only-of-type {\n",
       "        vertical-align: middle;\n",
       "    }\n",
       "\n",
       "    .dataframe tbody tr th {\n",
       "        vertical-align: top;\n",
       "    }\n",
       "\n",
       "    .dataframe thead th {\n",
       "        text-align: right;\n",
       "    }\n",
       "</style>\n",
       "<table border=\"1\" class=\"dataframe\">\n",
       "  <thead>\n",
       "    <tr style=\"text-align: right;\">\n",
       "      <th></th>\n",
       "      <th>Importance</th>\n",
       "      <th>features</th>\n",
       "    </tr>\n",
       "  </thead>\n",
       "  <tbody>\n",
       "    <tr>\n",
       "      <th>0</th>\n",
       "      <td>0.144712</td>\n",
       "      <td>race_created</td>\n",
       "    </tr>\n",
       "    <tr>\n",
       "      <th>1</th>\n",
       "      <td>0.164151</td>\n",
       "      <td>race_driven</td>\n",
       "    </tr>\n",
       "    <tr>\n",
       "      <th>2</th>\n",
       "      <td>0.035858</td>\n",
       "      <td>track_id</td>\n",
       "    </tr>\n",
       "    <tr>\n",
       "      <th>3</th>\n",
       "      <td>0.204872</td>\n",
       "      <td>challenger</td>\n",
       "    </tr>\n",
       "    <tr>\n",
       "      <th>4</th>\n",
       "      <td>0.198579</td>\n",
       "      <td>opponent</td>\n",
       "    </tr>\n",
       "    <tr>\n",
       "      <th>5</th>\n",
       "      <td>0.087192</td>\n",
       "      <td>money</td>\n",
       "    </tr>\n",
       "    <tr>\n",
       "      <th>6</th>\n",
       "      <td>0.126223</td>\n",
       "      <td>fuel_consumption</td>\n",
       "    </tr>\n",
       "    <tr>\n",
       "      <th>7</th>\n",
       "      <td>0.038413</td>\n",
       "      <td>weather</td>\n",
       "    </tr>\n",
       "  </tbody>\n",
       "</table>\n",
       "</div>"
      ],
      "text/plain": [
       "   Importance          features\n",
       "0    0.144712      race_created\n",
       "1    0.164151       race_driven\n",
       "2    0.035858          track_id\n",
       "3    0.204872        challenger\n",
       "4    0.198579          opponent\n",
       "5    0.087192             money\n",
       "6    0.126223  fuel_consumption\n",
       "7    0.038413           weather"
      ]
     },
     "execution_count": 16,
     "metadata": {},
     "output_type": "execute_result"
    }
   ],
   "source": [
    "y = test[\"winner\"]\n",
    "X = test[features]\n",
    "\n",
    "# Build a forest and compute the feature importances\n",
    "forest = ExtraTreesClassifier(n_estimators=250,\n",
    "                              random_state=0)\n",
    "\n",
    "forest.fit(X, y)\n",
    "importances = forest.feature_importances_\n",
    "\n",
    "# Print the feature ranking\n",
    "print(\"Feature ranking:\")\n",
    "\n",
    "x = pd.DataFrame({'Importance': importances, 'features': features})\n",
    "x"
   ]
  },
  {
   "cell_type": "code",
   "execution_count": 17,
   "metadata": {},
   "outputs": [
    {
     "data": {
      "text/plain": [
       "<matplotlib.axes._subplots.AxesSubplot at 0x7f45e3176f70>"
      ]
     },
     "execution_count": 17,
     "metadata": {},
     "output_type": "execute_result"
    },
    {
     "data": {
      "image/png": "[encoded data removed]",
      "text/plain": [
       "<Figure size 1080x360 with 1 Axes>"
      ]
     },
     "metadata": {},
     "output_type": "display_data"
    }
   ],
   "source": [
    "sns.set(rc={'figure.figsize':(15,5)})\n",
    "sns.barplot(x=\"features\", y=\"Importance\", data=x)\n"
   ]
  },
  {
   "cell_type": "markdown",
   "metadata": {},
   "source": [
    "## Zeit für ein kleines Tournament!"
   ]
  },
  {
   "cell_type": "markdown",
   "metadata": {},
   "source": [
    "Hier hat sich für mich die Frage ergeben, welcher Fahrer würde laut Random Forest zum aktuellen Zeitpunkt gewinnen. Dafür habe ich den 28.01.2012 um 12:30 als Merkmal verwendet. Zudem habe ich ein sonniges Wetter erwartet, für fuel_consumption = 10 und für money = 20.\n",
    "\n",
    "Anschließend lasse ich alle Fahrer, die mehr als 300 Rennen gefahren haben gegeneinander antreten.\n"
   ]
  },
  {
   "cell_type": "code",
   "execution_count": 18,
   "metadata": {},
   "outputs": [],
   "source": [
    "def run_tournament(date, time, fuel_consumption, money, weather):\n",
    "    df = pd.DataFrame()\n",
    "    tournament_challengers = to_calculate[to_calculate.combined>300]\n",
    "    indices=tournament_challengers['driver']\n",
    "\n",
    "    #Predict the best racer\n",
    "    for i in (indices):\n",
    "        for j in (indices):\n",
    "            for track in range(3,14):\n",
    "                if(i!=j):#driver should not challenge itself\n",
    "                    if(forest.predict([[date, time,track, i, j, money, fuel_consumption, weather]])):\n",
    "                        df = df.append({'winner': i},  ignore_index=True)\n",
    "                    else:\n",
    "                        df = df.append({'winner': j}, ignore_index=True)\n",
    "                    \n",
    "    return df.groupby(['winner']).size().to_frame('size').reset_index().sort_values(['size'], ascending=[False])"
   ]
  },
  {
   "cell_type": "code",
   "execution_count": null,
   "metadata": {},
   "outputs": [],
   "source": [
    "run_tournament(20120128,1230,10,20,0)"
   ]
  },
  {
   "cell_type": "markdown",
   "metadata": {},
   "source": [
    "# Wie gut sind die Vorhersagen des Random Forests?"
   ]
  },
  {
   "cell_type": "markdown",
   "metadata": {},
   "source": [
    "## Daten aufteilen in test und train dataset"
   ]
  },
  {
   "cell_type": "code",
   "execution_count": null,
   "metadata": {},
   "outputs": [],
   "source": [
    "from sklearn.model_selection import train_test_split\n",
    "\n",
    "X_train, X_test, y_train, y_test = train_test_split(test, y, test_size=0.2)\n",
    "\n",
    "X_train['Train_or_test']=1\n",
    "X_test['Train_or_test']=0\n",
    "\n",
    "concat_df = pd.concat([X_train,X_test], axis=0)\n",
    "\n",
    "y = concat_df.pop('Train_or_test')\n",
    "\n",
    "\n",
    "forest.fit(concat_df, y)\n"
   ]
  },
  {
   "cell_type": "code",
   "execution_count": null,
   "metadata": {},
   "outputs": [],
   "source": [
    "from sklearn.metrics import roc_auc_score\n",
    "\n",
    "y_pred = forest.predict(concat_df)\n",
    "\n",
    "roc_auc_score(y,y_pred)\n"
   ]
  },
  {
   "cell_type": "markdown",
   "metadata": {},
   "source": [
    "Wow. :D"
   ]
  },
  {
   "cell_type": "markdown",
   "metadata": {},
   "source": [
    "## Welche \"Freundesgruppen\" gibt es?"
   ]
  },
  {
   "cell_type": "markdown",
   "metadata": {},
   "source": [
    "### Können Cluster entdeckt werden?"
   ]
  },
  {
   "cell_type": "markdown",
   "metadata": {},
   "source": [
    "Leider war es mir nicht möglich cluster zu entdecken, aber vielleicht gibt es noch welche die ich nicht gefunden habe. Nachfolgendend ein K-Means Cluster Algorithmus zum Entdecken von Clustern in Daten"
   ]
  },
  {
   "cell_type": "code",
   "execution_count": null,
   "metadata": {
    "scrolled": true
   },
   "outputs": [],
   "source": [
    "from sklearn.cluster import KMeans\n",
    "from sklearn.preprocessing import scale\n",
    "\n",
    "#data = pd.DataFrame({'time': finished_races.race_created, 'opponent': finished_races.opponent, 'challenger': finished_races.challenger})\n",
    "\n",
    "data=finished_races\n",
    "\n",
    "data = data.drop(['status'], axis=1)\n",
    "data = data.drop(['race_driven'], axis=1)\n",
    "data = data.drop(['forecast'], axis=1)\n",
    "data = data.drop(['weather'], axis=1)\n",
    "\n",
    "#data['time'] =  pd.to_datetime(data['time']).dt.weekday.astype(int)\n",
    "\n",
    "data = data.values\n",
    "\n",
    "\n",
    "model = KMeans(n_clusters=20)\n",
    "\n",
    "# Scale Data\n",
    "model = model.fit(scale(data))\n",
    "\n",
    "#Plot the Clusters\n",
    "plt.figure(figsize=(8, 6))\n",
    "plt.scatter(data[:,0], data[:,1],  c=model.labels_.astype(float))\n",
    "plt.show()"
   ]
  }
 ],
 "metadata": {
  "kernelspec": {
   "display_name": "Python 3",
   "language": "python",
   "name": "python3"
  },
  "language_info": {
   "codemirror_mode": {
    "name": "ipython",
    "version": 3
   },
   "file_extension": ".py",
   "mimetype": "text/x-python",
   "name": "python",
   "nbconvert_exporter": "python",
   "pygments_lexer": "ipython3",
   "version": "3.8.1"
  }
 },
 "nbformat": 4,
 "nbformat_minor": 4
}
